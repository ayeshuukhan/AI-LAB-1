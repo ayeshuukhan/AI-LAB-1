{
  "cells": [
    {
      "cell_type": "markdown",
      "metadata": {
        "id": "view-in-github",
        "colab_type": "text"
      },
      "source": [
        "<a href=\"https://colab.research.google.com/github/ayeshuukhan/Programming-for-AI/blob/main/Lab%203/PROGAI_TASK3.ipynb\" target=\"_parent\"><img src=\"https://colab.research.google.com/assets/colab-badge.svg\" alt=\"Open In Colab\"/></a>"
      ]
    },
    {
      "cell_type": "markdown",
      "id": "d73dab64",
      "metadata": {
        "id": "d73dab64"
      },
      "source": [
        "# Task 1"
      ]
    },
    {
      "cell_type": "markdown",
      "id": "efa1ac3a",
      "metadata": {
        "id": "efa1ac3a"
      },
      "source": [
        "In this task we have to make the list of fruits and print the first and lst element of the fruits"
      ]
    },
    {
      "cell_type": "code",
      "execution_count": null,
      "id": "4eef9435",
      "metadata": {
        "id": "4eef9435",
        "outputId": "c69b7236-ba82-465c-e564-c8b52c191bc3"
      },
      "outputs": [
        {
          "name": "stdout",
          "output_type": "stream",
          "text": [
            "First Item in the list is :  Mango\n",
            "Last Item in the list is :  Blueberry\n",
            "['Mango', 'guava', 'Grapes', 'Avacado', 'Apricot', 'Blueberry']\n"
          ]
        }
      ],
      "source": [
        "fruits = [\"Mango\", \"guava\", \"Grapes\", \"Avacado\", \"Apricot\", \"Blueberry\"]\n",
        "print(\"First Item in the list is : \", fruits[0])\n",
        "print(\"Last Item in the list is : \", fruits[5])\n",
        "print(fruits)"
      ]
    },
    {
      "cell_type": "markdown",
      "id": "d6de1825",
      "metadata": {
        "id": "d6de1825"
      },
      "source": [
        "# Task 2"
      ]
    },
    {
      "cell_type": "markdown",
      "id": "b2bfbb4b",
      "metadata": {
        "id": "b2bfbb4b"
      },
      "source": [
        "In this first we have to create list of colors then we have to change the second item in the list to blue."
      ]
    },
    {
      "cell_type": "code",
      "execution_count": null,
      "id": "71c41ae7",
      "metadata": {
        "id": "71c41ae7",
        "outputId": "df6f1138-bd39-40d7-c536-8dbf0733ac89"
      },
      "outputs": [
        {
          "name": "stdout",
          "output_type": "stream",
          "text": [
            "Updated Colors:  ['Pink', 'Purple', 'No Color', 'Sky Blue', 'Turquish', 'Yellow']\n"
          ]
        }
      ],
      "source": [
        "Colors = [\"Pink\",\"Purple\", \"Brown\", \"Sky Blue\", \"Turquish\", \"Yellow\"]\n",
        "Colors[2] = \"No Color\"\n",
        "print( \"Updated Colors: \", Colors)"
      ]
    },
    {
      "cell_type": "markdown",
      "id": "42f15a4e",
      "metadata": {
        "id": "42f15a4e"
      },
      "source": [
        "# Task 3"
      ]
    },
    {
      "cell_type": "markdown",
      "id": "d56d7405",
      "metadata": {
        "id": "d56d7405"
      },
      "source": [
        "In this we have to create list of numbers and we have to add number 10 to the list and we know that when we have to add something in the list we use append"
      ]
    },
    {
      "cell_type": "code",
      "execution_count": null,
      "id": "db5fb82f",
      "metadata": {
        "id": "db5fb82f",
        "outputId": "d898d2c2-be9e-4770-f344-c99d776a2ee1"
      },
      "outputs": [
        {
          "name": "stdout",
          "output_type": "stream",
          "text": [
            "Updated numbers: ['23', '45', '65', '24', '85', 10]\n"
          ]
        }
      ],
      "source": [
        "Numbers = [\"23\", \"45\", \"65\", \"24\", \"85\"]\n",
        "Numbers.append(10)\n",
        "print(\"Updated numbers:\", Numbers)"
      ]
    },
    {
      "cell_type": "markdown",
      "id": "fd4d56a6",
      "metadata": {
        "id": "fd4d56a6"
      },
      "source": [
        "# Task 4"
      ]
    },
    {
      "cell_type": "markdown",
      "id": "1cf04f20",
      "metadata": {
        "id": "1cf04f20"
      },
      "source": [
        "In this task we have to create the list of animals and remove the third item from the list. So we use del to remove an item"
      ]
    },
    {
      "cell_type": "code",
      "execution_count": null,
      "id": "736eadf2",
      "metadata": {
        "id": "736eadf2",
        "outputId": "7fed6d7c-6a0d-477f-c36d-cc3fd1c9b002"
      },
      "outputs": [
        {
          "name": "stdout",
          "output_type": "stream",
          "text": [
            "Updated Animals ['Elephant', 'Dog', 'Hedgehog', 'Zebra', 'Lion', 'Tiger']\n"
          ]
        }
      ],
      "source": [
        "Animals = [\"Elephant\", \"Dog\", \"Leapord\", \"Hedgehog\", \"Zebra\", \"Lion\", \"Tiger\"]\n",
        "del Animals[2]\n",
        "print(\"Updated Animals\", Animals)"
      ]
    },
    {
      "cell_type": "markdown",
      "id": "5796c9c9",
      "metadata": {
        "id": "5796c9c9"
      },
      "source": [
        "# Task 5"
      ]
    },
    {
      "cell_type": "markdown",
      "id": "01c616d2",
      "metadata": {
        "id": "01c616d2"
      },
      "source": [
        "In this we have to create the list of cities and we have to apply the loop through the list and print each city."
      ]
    },
    {
      "cell_type": "code",
      "execution_count": null,
      "id": "e9edd0f6",
      "metadata": {
        "id": "e9edd0f6",
        "outputId": "6041f770-1cbd-4b59-cd20-d9d70ad299a3"
      },
      "outputs": [
        {
          "name": "stdout",
          "output_type": "stream",
          "text": [
            "Islamabad\n",
            "Karachi\n",
            "Haripur\n",
            "Mianwali\n",
            "Peshawar\n"
          ]
        }
      ],
      "source": [
        "Cities = [\"Islamabad\",\"Karachi\",\"Haripur\",\"Mianwali\",\"Peshawar\"]\n",
        "for city in Cities:\n",
        "    print(city)\n"
      ]
    },
    {
      "cell_type": "markdown",
      "id": "8637a13f",
      "metadata": {
        "id": "8637a13f"
      },
      "source": [
        "# Task 6"
      ]
    },
    {
      "cell_type": "markdown",
      "id": "329e90ed",
      "metadata": {
        "id": "329e90ed"
      },
      "source": [
        "In this task we have to create list from 1 to 10 numbers so most probably it 1-11 numbers because it starts from 0 index then we have to use the list comprehension to create new list containing the squre of each number."
      ]
    },
    {
      "cell_type": "code",
      "execution_count": null,
      "id": "406199eb",
      "metadata": {
        "id": "406199eb",
        "outputId": "4078ecc1-2d07-4fb9-b3ed-f95589966e45"
      },
      "outputs": [
        {
          "name": "stdout",
          "output_type": "stream",
          "text": [
            "Squared numbers =  [1, 4, 9, 16, 25, 36, 49, 64, 81, 100]\n"
          ]
        }
      ],
      "source": [
        "Numbers = [i for i in range (1,11)] #list Comprehension\n",
        "squared_Numbers = [x**2 for x in Numbers] #formula to apply square\n",
        "print (\"Squared numbers = \", squared_Numbers)\n"
      ]
    },
    {
      "cell_type": "markdown",
      "id": "6f9376fa",
      "metadata": {
        "id": "6f9376fa"
      },
      "source": [
        "# Task 7"
      ]
    },
    {
      "cell_type": "markdown",
      "id": "c280f193",
      "metadata": {
        "id": "c280f193"
      },
      "source": [
        "In this we have to create a list and sort the list alphabetically, and for that we use sort function\n"
      ]
    },
    {
      "cell_type": "code",
      "execution_count": null,
      "id": "66b7143c",
      "metadata": {
        "id": "66b7143c",
        "outputId": "79e504c9-649e-4557-8f17-3afbc6646af1"
      },
      "outputs": [
        {
          "name": "stdout",
          "output_type": "stream",
          "text": [
            "Names In Alphabetical Order:  ['Asharib', 'Basit', 'Zoha']\n"
          ]
        }
      ],
      "source": [
        "Names = [\"Zoha\",\"Asharib\",\"Basit\"]\n",
        "Names.sort()\n",
        "print(\"Names In Alphabetical Order: \", Names)"
      ]
    },
    {
      "cell_type": "markdown",
      "id": "1571eeb9",
      "metadata": {
        "id": "1571eeb9"
      },
      "source": [
        "# Task 8"
      ]
    },
    {
      "cell_type": "markdown",
      "id": "b7c005d0",
      "metadata": {
        "id": "b7c005d0"
      },
      "source": [
        "In this task we have to make the list of fruits and then copy the list into new list. e use Copy function"
      ]
    },
    {
      "cell_type": "code",
      "execution_count": null,
      "id": "e2ef584c",
      "metadata": {
        "id": "e2ef584c",
        "outputId": "440ea315-4fbd-4e77-b221-7a1c92413f40"
      },
      "outputs": [
        {
          "name": "stdout",
          "output_type": "stream",
          "text": [
            "Copied list: ['Mango', 'guava', 'Grapes', 'Avacado', 'Apricot', 'Blueberry']\n"
          ]
        }
      ],
      "source": [
        "fruits = [\"Mango\", \"guava\", \"Grapes\", \"Avacado\", \"Apricot\", \"Blueberry\"]\n",
        "fruits_copy = fruits.copy()\n",
        "print(\"Copied list:\", fruits_copy)"
      ]
    },
    {
      "cell_type": "markdown",
      "id": "a9d9326f",
      "metadata": {
        "id": "a9d9326f"
      },
      "source": [
        "# Task 9"
      ]
    },
    {
      "cell_type": "markdown",
      "id": "9675c752",
      "metadata": {
        "id": "9675c752"
      },
      "source": [
        "In this task we have to create 2 lists of numbers and join 2 lists."
      ]
    },
    {
      "cell_type": "code",
      "execution_count": null,
      "id": "2932b609",
      "metadata": {
        "id": "2932b609",
        "outputId": "da496a8c-f31f-43f0-c372-f86552f0953e"
      },
      "outputs": [
        {
          "name": "stdout",
          "output_type": "stream",
          "text": [
            "Joined list: [1, 2, 3, 66, 99, 4, 5, 6, 123, 456]\n"
          ]
        }
      ],
      "source": [
        "list1 = [1, 2, 3, 66, 99]\n",
        "list2 = [4, 5, 6, 123, 456]\n",
        "joined_list = list1 + list2\n",
        "print(\"Joined list:\", joined_list)"
      ]
    },
    {
      "cell_type": "markdown",
      "id": "99ec7cf0",
      "metadata": {
        "id": "99ec7cf0"
      },
      "source": [
        "# Task 10"
      ]
    },
    {
      "cell_type": "markdown",
      "id": "50abef51",
      "metadata": {
        "id": "50abef51"
      },
      "source": [
        "In this we have to create the list then use append method to add the new fruit and then we use pop() method to remove the last fruit"
      ]
    },
    {
      "cell_type": "code",
      "execution_count": null,
      "id": "d6781dd0",
      "metadata": {
        "id": "d6781dd0",
        "outputId": "d09a29d3-6b40-45d3-95f9-ec87ab0155d0"
      },
      "outputs": [
        {
          "name": "stdout",
          "output_type": "stream",
          "text": [
            "Updated fruits: ['Mango', 'guava', 'Grapes', 'Avacado', 'Apricot', 'Blueberry', 'Apple']\n",
            "Removed fruit: Apple\n"
          ]
        }
      ],
      "source": [
        "fruits = [\"Mango\", \"guava\", \"Grapes\", \"Avacado\", \"Apricot\", \"Blueberry\"]\n",
        "fruits.append(\"Apple\")\n",
        "print(\"Updated fruits:\", fruits)\n",
        "last_fruit = fruits.pop()\n",
        "print(\"Removed fruit:\", last_fruit)"
      ]
    },
    {
      "cell_type": "markdown",
      "id": "798b2f5a",
      "metadata": {
        "id": "798b2f5a"
      },
      "source": [
        "# Task 11"
      ]
    },
    {
      "cell_type": "markdown",
      "id": "f0477181",
      "metadata": {
        "id": "f0477181"
      },
      "source": [
        "In this task we have to create 2 lists, one containing numbers from  6 - 10 and other containg 1-5 then we have to use list comprehension to create new list that contain sum of coresponding elements from 2 lists"
      ]
    },
    {
      "cell_type": "code",
      "execution_count": null,
      "id": "8fe1ffde",
      "metadata": {
        "id": "8fe1ffde",
        "outputId": "0b954007-6f1e-4e2b-94d1-d035aaaada6d"
      },
      "outputs": [
        {
          "name": "stdout",
          "output_type": "stream",
          "text": [
            "Combined list: [7, 9, 11, 13, 15]\n"
          ]
        }
      ],
      "source": [
        "list1 = [1, 2, 3, 4, 5]\n",
        "list2 = [6, 7, 8, 9, 10]\n",
        "combined_list = [x + y for x, y in zip(list1, list2)]\n",
        "print(\"Combined list:\", combined_list)"
      ]
    },
    {
      "cell_type": "markdown",
      "id": "0b08ccf5",
      "metadata": {
        "id": "0b08ccf5"
      },
      "source": [
        "# Task 12\n"
      ]
    },
    {
      "cell_type": "markdown",
      "id": "bac3a6f9",
      "metadata": {
        "id": "bac3a6f9"
      },
      "source": [
        "In this we have to Create a list of numbers and Use list comprehension to create a new list containing only the even numbers and Sort the new list in descending order"
      ]
    },
    {
      "cell_type": "code",
      "execution_count": null,
      "id": "ffde1d40",
      "metadata": {
        "id": "ffde1d40",
        "outputId": "06dc9300-20fa-472c-c4e6-7f07468bd310"
      },
      "outputs": [
        {
          "name": "stdout",
          "output_type": "stream",
          "text": [
            "Sorted even numbers: [78, 56, 32]\n"
          ]
        }
      ],
      "source": [
        "numbers = [23, 56, 11, 78, 45, 32]\n",
        "even_numbers = [num for num in numbers if num % 2 == 0]\n",
        "even_numbers.sort(reverse=True)\n",
        "print(\"Sorted even numbers:\", even_numbers)"
      ]
    },
    {
      "cell_type": "markdown",
      "id": "ccae99e6",
      "metadata": {
        "id": "ccae99e6"
      },
      "source": [
        "# Task 13"
      ]
    },
    {
      "cell_type": "markdown",
      "id": "bf2af002",
      "metadata": {
        "id": "bf2af002"
      },
      "source": [
        "In this we have to Create a list of numbers from 1 to 10 and Use list slicing to create a new list containing only the even numbers from the original list, in reverse order"
      ]
    },
    {
      "cell_type": "code",
      "execution_count": null,
      "id": "e885e099",
      "metadata": {
        "id": "e885e099",
        "outputId": "07abda7d-c92c-488e-a5c7-06f43dab5aec"
      },
      "outputs": [
        {
          "name": "stdout",
          "output_type": "stream",
          "text": [
            "Even numbers in reverse: [10, 8, 6, 4, 2]\n"
          ]
        }
      ],
      "source": [
        "numbers = list(range(1, 11))\n",
        "even_numbers_reverse = numbers[1::2][::-1]\n",
        "print(\"Even numbers in reverse:\", even_numbers_reverse)"
      ]
    },
    {
      "cell_type": "markdown",
      "id": "2eff830e",
      "metadata": {
        "id": "2eff830e"
      },
      "source": [
        "# Task 14"
      ]
    },
    {
      "cell_type": "markdown",
      "id": "a3dffec8",
      "metadata": {
        "id": "a3dffec8"
      },
      "source": [
        "In this we have to create two lists one contain even numbers and other contain odd numbers and we use list method to combine two lists into a single list"
      ]
    },
    {
      "cell_type": "code",
      "execution_count": null,
      "id": "b08cd09b",
      "metadata": {
        "id": "b08cd09b",
        "outputId": "bc5eb7da-bb77-4783-8fd4-1237dd540265"
      },
      "outputs": [
        {
          "name": "stdout",
          "output_type": "stream",
          "text": [
            "Combined list: [2, 1, 4, 3, 6, 5, 8, 7, 10, 9]\n"
          ]
        }
      ],
      "source": [
        "even_numbers = [2, 4, 6, 8, 10]\n",
        "odd_numbers = [1, 3, 5, 7, 9]\n",
        "combined_list = []\n",
        "for even, odd in zip(even_numbers, odd_numbers): #List comprehension\n",
        "    combined_list.append(even)\n",
        "    combined_list.append(odd)\n",
        "print(\"Combined list:\", combined_list)"
      ]
    },
    {
      "cell_type": "code",
      "execution_count": null,
      "id": "7ce13391",
      "metadata": {
        "id": "7ce13391"
      },
      "outputs": [],
      "source": []
    }
  ],
  "metadata": {
    "kernelspec": {
      "display_name": "Python 3 (ipykernel)",
      "language": "python",
      "name": "python3"
    },
    "language_info": {
      "codemirror_mode": {
        "name": "ipython",
        "version": 3
      },
      "file_extension": ".py",
      "mimetype": "text/x-python",
      "name": "python",
      "nbconvert_exporter": "python",
      "pygments_lexer": "ipython3",
      "version": "3.11.5"
    },
    "colab": {
      "provenance": [],
      "include_colab_link": true
    }
  },
  "nbformat": 4,
  "nbformat_minor": 5
}